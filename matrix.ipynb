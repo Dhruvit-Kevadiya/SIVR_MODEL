{
 "cells": [
  {
   "cell_type": "code",
   "execution_count": 2,
   "metadata": {},
   "outputs": [],
   "source": [
    "import numpy as np"
   ]
  },
  {
   "cell_type": "code",
   "execution_count": 3,
   "metadata": {},
   "outputs": [],
   "source": [
    "def getMatrix(beta,omega,gamma,roh,psi,mu,I,S):\n",
    "    m = [\n",
    "    [-(beta*I)-mu-omega,-beta*S,+psi,0],\n",
    "    [beta*I, (beta*S) - mu- gamma, 0 ,0],\n",
    "    [omega, 0, -mu-psi-roh,0],\n",
    "    [0, gamma, roh, -mu]\n",
    "    ]\n",
    "    return m "
   ]
  },
  {
   "cell_type": "code",
   "execution_count": 4,
   "metadata": {},
   "outputs": [
    {
     "data": {
      "text/plain": [
       "array([-3.53420000e-05, -1.08363068e-04, -6.66454037e-04, -3.97423725e-02])"
      ]
     },
     "execution_count": 4,
     "metadata": {},
     "output_type": "execute_result"
    }
   ],
   "source": [
    "alpha= 0.03             #Birth rate\n",
    "beta = 0.03             #Infection per day\n",
    "omega= 0.00020185       #Rate of first dose of vacination\n",
    "gamma= 0.0476           #Recovered rate\n",
    "roh=  1/4380            #Time between first and second dose\n",
    "psi= 1/3650             #first dose wanes in immunity\n",
    "mu= 0.000035342 \n",
    "N = 1\n",
    "\n",
    "\n",
    "I = 0\n",
    "S = mu*N*(mu+psi+roh)/((mu+psi+roh)*(mu+omega)-omega*psi)\n",
    "\n",
    "m = np.matrix(getMatrix(beta,omega,gamma,roh,psi,mu,I,S))\n",
    "e,_ = np.linalg.eig(m)\n",
    "e"
   ]
  },
  {
   "cell_type": "code",
   "execution_count": 5,
   "metadata": {},
   "outputs": [
    {
     "data": {
      "text/plain": [
       "array([-3.53420000e-05,  3.93756105e-03, -3.85895685e-03, -5.35624819e-04])"
      ]
     },
     "execution_count": 5,
     "metadata": {},
     "output_type": "execute_result"
    }
   ],
   "source": [
    "alpha=  0.03            #Birth rate\n",
    "beta = 0.03             #Infection per day\n",
    "omega= 0.00020185       #Rate of first dose of vacination\n",
    "gamma= 0.0476           #Recovered rate\n",
    "roh=  1/4380            #Time between first and second dose\n",
    "psi= 1/3650             #first dose wanes in immunity\n",
    "mu= 0.000035342 \n",
    "N = 1\n",
    "\n",
    "\n",
    "I = (mu*N)/(mu+gamma)-((psi*omega)/(beta*(mu+psi+roh))) - (mu+omega)/beta\n",
    "S = (mu+gamma)/beta\n",
    "\n",
    "m = np.matrix(getMatrix(beta,omega,gamma,roh,psi,mu,I,S))\n",
    "e,_ = np.linalg.eig(m)\n",
    "e"
   ]
  },
  {
   "cell_type": "code",
   "execution_count": 7,
   "metadata": {},
   "outputs": [
    {
     "data": {
      "text/plain": [
       "array([-3.53420000e-05, -1.62490332e-04, -8.81974773e-04, -1.28994105e-02])"
      ]
     },
     "execution_count": 7,
     "metadata": {},
     "output_type": "execute_result"
    }
   ],
   "source": [
    "\n",
    "beta = 0.261994381      #Infection per day\n",
    "omega= 0.000471498      #Rate of first dose of vacination\n",
    "gamma= 0.0476           #Recovered rate\n",
    "roh=  1/4380            #Time between first and second dose\n",
    "psi= 1/3650             #first dose wanes in immunity\n",
    "mu= 0.000035342 \n",
    "N = 1\n",
    "\n",
    "\n",
    "I = 0\n",
    "S = mu*N*(mu+psi+roh)/((mu+psi+roh)*(mu+omega)-omega*psi)\n",
    "\n",
    "m = np.matrix(getMatrix(beta,omega,gamma,roh,psi,mu,I,S))\n",
    "e,_ = np.linalg.eig(m)\n",
    "e"
   ]
  },
  {
   "cell_type": "code",
   "execution_count": 24,
   "metadata": {},
   "outputs": [
    {
     "data": {
      "text/plain": [
       "array([-3.53420000e-05,  5.16562791e-03, -5.12239053e-03, -5.34969113e-04])"
      ]
     },
     "execution_count": 24,
     "metadata": {},
     "output_type": "execute_result"
    }
   ],
   "source": [
    "beta = 0.261994381      #Infection per day\n",
    "omega= 0.000471498      #Rate of first dose of vacination\n",
    "gamma= 0.0476           #Recovered rate\n",
    "roh=  1/4380            #Time between first and second dose\n",
    "psi= 1/3650             #first dose wanes in immunity\n",
    "mu= 0.000035342 \n",
    "N = 1\n",
    "\n",
    "I = (mu*N)/(mu+gamma)-((psi*omega)/(beta*(mu+psi+roh))) - (mu+omega)/beta\n",
    "S = (mu+gamma)/beta\n",
    "\n",
    "m = np.matrix(getMatrix(beta,omega,gamma,roh,psi,mu,I,S))\n",
    "e,_ = np.linalg.eig(m)\n",
    "e\n",
    "\n"
   ]
  },
  {
   "cell_type": "code",
   "execution_count": 25,
   "metadata": {},
   "outputs": [
    {
     "data": {
      "text/plain": [
       "array([-3.53420000e-05, -1.08363068e-04, -6.66454037e-04,  2.12951130e-02])"
      ]
     },
     "execution_count": 25,
     "metadata": {},
     "output_type": "execute_result"
    }
   ],
   "source": [
    "# beta = 0.261994381      #Infection per day\n",
    "# omega= 0.00020185      #Rate of first dose of vacination\n",
    "# gamma= 0.0476           #Recovered rate\n",
    "# roh=  1/4380            #Time between first and second dose\n",
    "# psi= 1/3650             #first dose wanes in immunity\n",
    "# mu= 0.000035342 \n",
    "# N = 1\n",
    "\n",
    "# I = 0\n",
    "# S = mu*N*(mu+psi+roh)/((mu+psi+roh)*(mu+omega)-omega*psi)\n",
    "\n",
    "# m = np.matrix(getMatrix(beta,omega,gamma,roh,psi,mu,I,S))\n",
    "# e,_ = np.linalg.eig(m)\n",
    "# e"
   ]
  },
  {
   "cell_type": "code",
   "execution_count": 26,
   "metadata": {},
   "outputs": [
    {
     "data": {
      "text/plain": [
       "array([-3.53420000e-05,  2.59755505e-03, -2.69347253e-03, -5.33226298e-04])"
      ]
     },
     "execution_count": 26,
     "metadata": {},
     "output_type": "execute_result"
    }
   ],
   "source": [
    "# beta = 0.261994381      #Infection per day\n",
    "# omega= 0.00020185      #Rate of first dose of vacination\n",
    "# gamma= 0.0476           #Recovered rate\n",
    "# roh=  1/4380            #Time between first and second dose\n",
    "# psi= 1/3650             #first dose wanes in immunity\n",
    "# mu= 0.000035342 \n",
    "# N = 1\n",
    "\n",
    "# I = (mu*N)/(mu+gamma)-((psi*omega)/(beta*(mu+psi+roh))) - (mu+omega)/beta\n",
    "# S = (mu+gamma)/beta\n",
    "\n",
    "# m = np.matrix(getMatrix(beta,omega,gamma,roh,psi,mu,I,S))\n",
    "# e,_ = np.linalg.eig(m)\n",
    "e"
   ]
  }
 ],
 "metadata": {
  "kernelspec": {
   "display_name": "Python 3",
   "language": "python",
   "name": "python3"
  },
  "language_info": {
   "codemirror_mode": {
    "name": "ipython",
    "version": 3
   },
   "file_extension": ".py",
   "mimetype": "text/x-python",
   "name": "python",
   "nbconvert_exporter": "python",
   "pygments_lexer": "ipython3",
   "version": "3.10.11"
  },
  "orig_nbformat": 4
 },
 "nbformat": 4,
 "nbformat_minor": 2
}
