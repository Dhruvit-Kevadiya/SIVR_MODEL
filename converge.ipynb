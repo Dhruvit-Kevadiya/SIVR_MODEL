{
 "cells": [
  {
   "cell_type": "code",
   "execution_count": 6,
   "metadata": {},
   "outputs": [
    {
     "name": "stdout",
     "output_type": "stream",
     "text": [
      "0.26309898221808037\n"
     ]
    }
   ],
   "source": [
    "# for equlibrium point 1\n",
    "\n",
    "\n",
    "import numpy as np\n",
    "\n",
    "def s_value(omega,roh,psi,mu):\n",
    "    s = (mu * (mu + psi + roh ))/(((mu + omega)*(mu + psi + roh )) - (omega * psi))\n",
    "    return s \n",
    "\n",
    "psi = 1/3650\n",
    "roh = 1/4380\n",
    "omega = 0.00020185\n",
    "# omega= 0.000471498\n",
    "mu = 0.000035342\n",
    "\n",
    "s = np.absolute(s_value(omega,roh,psi,mu))\n",
    "print(s)"
   ]
  },
  {
   "cell_type": "code",
   "execution_count": 7,
   "metadata": {},
   "outputs": [
    {
     "name": "stdout",
     "output_type": "stream",
     "text": [
      "0.09877985433448885\n"
     ]
    }
   ],
   "source": [
    "def v_value(omega,roh,psi,mu):\n",
    "    v = (mu * omega)/((mu + omega)*(mu + psi + roh) - (omega * psi))\n",
    "    return v\n",
    "\n",
    "psi = 1/3650\n",
    "roh = 1/4380\n",
    "omega = 0.00020185\n",
    "# omega= 0.000471498\n",
    "mu = 0.000035342\n",
    "\n",
    "v = np.absolute(v_value(omega,roh,psi,mu))\n",
    "print(v)"
   ]
  },
  {
   "cell_type": "code",
   "execution_count": 8,
   "metadata": {},
   "outputs": [
    {
     "name": "stdout",
     "output_type": "stream",
     "text": [
      "0.6381211634474308\n"
     ]
    }
   ],
   "source": [
    "r = (roh*v)/mu \n",
    "print(r)"
   ]
  },
  {
   "cell_type": "code",
   "execution_count": null,
   "metadata": {},
   "outputs": [],
   "source": []
  },
  {
   "cell_type": "code",
   "execution_count": 10,
   "metadata": {},
   "outputs": [
    {
     "name": "stdout",
     "output_type": "stream",
     "text": [
      "0.18181818181818182\n"
     ]
    }
   ],
   "source": [
    "# for equlibrium point 2\n",
    "\n",
    "def s2_value(gamma, beta,mu):\n",
    "    s2 = (mu + gamma)/beta\n",
    "    return s2 \n",
    "\n",
    "gamma = 0.0476\n",
    "mu = 0.000035342\n",
    "beta = 0.261994381\n",
    "psi = 1/3650\n",
    "roh = 1/4380\n",
    "omega = 0.00020185\n",
    "# omega= 0.000471498\n",
    "\n",
    "\n",
    "s2 = np.absolute(s2_value(gamma,beta,mu))\n",
    "print(s2)"
   ]
  },
  {
   "cell_type": "code",
   "execution_count": 11,
   "metadata": {},
   "outputs": [
    {
     "name": "stdout",
     "output_type": "stream",
     "text": [
      "2.41076740832446e-06\n"
     ]
    }
   ],
   "source": [
    "def v2_value(omega,roh,psi,mu,beta,gamma):\n",
    "    v2 = (omega*(mu*gamma))/(beta*(mu+psi+roh))\n",
    "    return v2\n",
    "\n",
    "gamma = 0.0476\n",
    "psi = 1/3650\n",
    "roh = 1/4380\n",
    "beta = 0.261994381   \n",
    "omega = 0.00020185\n",
    "# omega= 0.000471498\n",
    "mu = 0.000035342\n",
    "\n",
    "v2 = np.absolute(v2_value(omega,roh,psi,mu,beta,gamma))\n",
    "print(v2)"
   ]
  },
  {
   "cell_type": "code",
   "execution_count": null,
   "metadata": {},
   "outputs": [],
   "source": []
  }
 ],
 "metadata": {
  "kernelspec": {
   "display_name": "Python 3",
   "language": "python",
   "name": "python3"
  },
  "language_info": {
   "codemirror_mode": {
    "name": "ipython",
    "version": 3
   },
   "file_extension": ".py",
   "mimetype": "text/x-python",
   "name": "python",
   "nbconvert_exporter": "python",
   "pygments_lexer": "ipython3",
   "version": "3.10.11"
  },
  "orig_nbformat": 4
 },
 "nbformat": 4,
 "nbformat_minor": 2
}
